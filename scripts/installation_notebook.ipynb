{
 "cells": [
  {
   "cell_type": "code",
   "execution_count": 1,
   "metadata": {},
   "outputs": [
    {
     "name": "stdout",
     "output_type": "stream",
     "text": [
      "\u001b[33mDEPRECATION: Loading egg at /home/INT/neri.m/anaconda3/envs/matte_plot_env/lib/python3.12/site-packages/jax-0.5.0-py3.12.egg is deprecated. pip 25.1 will enforce this behaviour change. A possible replacement is to use pip for package installation. Discussion can be found at https://github.com/pypa/pip/issues/12330\u001b[0m\u001b[33m\n",
      "\u001b[0m\u001b[33mDEPRECATION: Loading egg at /home/INT/neri.m/anaconda3/envs/matte_plot_env/lib/python3.12/site-packages/charset_normalizer-3.4.1-py3.12-linux-x86_64.egg is deprecated. pip 25.1 will enforce this behaviour change. A possible replacement is to use pip for package installation. Discussion can be found at https://github.com/pypa/pip/issues/12330\u001b[0m\u001b[33m\n",
      "\u001b[0m\u001b[33mDEPRECATION: Loading egg at /home/INT/neri.m/anaconda3/envs/matte_plot_env/lib/python3.12/site-packages/lxml-5.3.1-py3.12-linux-x86_64.egg is deprecated. pip 25.1 will enforce this behaviour change. A possible replacement is to use pip for package installation. Discussion can be found at https://github.com/pypa/pip/issues/12330\u001b[0m\u001b[33m\n",
      "\u001b[0m\u001b[33mDEPRECATION: Loading egg at /home/INT/neri.m/anaconda3/envs/matte_plot_env/lib/python3.12/site-packages/jaxlib-0.5.0-py3.12-linux-x86_64.egg is deprecated. pip 25.1 will enforce this behaviour change. A possible replacement is to use pip for package installation. Discussion can be found at https://github.com/pypa/pip/issues/12330\u001b[0m\u001b[33m\n",
      "\u001b[0m\u001b[33mDEPRECATION: Loading egg at /home/INT/neri.m/anaconda3/envs/matte_plot_env/lib/python3.12/site-packages/nibabel-5.3.2-py3.12.egg is deprecated. pip 25.1 will enforce this behaviour change. A possible replacement is to use pip for package installation. Discussion can be found at https://github.com/pypa/pip/issues/12330\u001b[0m\u001b[33m\n",
      "\u001b[0m\u001b[33mDEPRECATION: Loading egg at /home/INT/neri.m/anaconda3/envs/matte_plot_env/lib/python3.12/site-packages/chex-0.1.88-py3.12.egg is deprecated. pip 25.1 will enforce this behaviour change. A possible replacement is to use pip for package installation. Discussion can be found at https://github.com/pypa/pip/issues/12330\u001b[0m\u001b[33m\n",
      "\u001b[0m\u001b[33mDEPRECATION: Loading egg at /home/INT/neri.m/anaconda3/envs/matte_plot_env/lib/python3.12/site-packages/brainspace-0.1.20-py3.12.egg is deprecated. pip 25.1 will enforce this behaviour change. A possible replacement is to use pip for package installation. Discussion can be found at https://github.com/pypa/pip/issues/12330\u001b[0m\u001b[33m\n",
      "\u001b[0m\u001b[33mDEPRECATION: Loading egg at /home/INT/neri.m/anaconda3/envs/matte_plot_env/lib/python3.12/site-packages/requests-2.32.3-py3.12.egg is deprecated. pip 25.1 will enforce this behaviour change. A possible replacement is to use pip for package installation. Discussion can be found at https://github.com/pypa/pip/issues/12330\u001b[0m\u001b[33m\n",
      "\u001b[0m\u001b[33mDEPRECATION: Loading egg at /home/INT/neri.m/anaconda3/envs/matte_plot_env/lib/python3.12/site-packages/nilearn-0.11.1-py3.12.egg is deprecated. pip 25.1 will enforce this behaviour change. A possible replacement is to use pip for package installation. Discussion can be found at https://github.com/pypa/pip/issues/12330\u001b[0m\u001b[33m\n",
      "\u001b[0m\u001b[33mDEPRECATION: Loading egg at /home/INT/neri.m/anaconda3/envs/matte_plot_env/lib/python3.12/site-packages/opt_einsum-3.4.0-py3.12.egg is deprecated. pip 25.1 will enforce this behaviour change. A possible replacement is to use pip for package installation. Discussion can be found at https://github.com/pypa/pip/issues/12330\u001b[0m\u001b[33m\n",
      "\u001b[0m\u001b[33mDEPRECATION: Loading egg at /home/INT/neri.m/anaconda3/envs/matte_plot_env/lib/python3.12/site-packages/urllib3-2.3.0-py3.12.egg is deprecated. pip 25.1 will enforce this behaviour change. A possible replacement is to use pip for package installation. Discussion can be found at https://github.com/pypa/pip/issues/12330\u001b[0m\u001b[33m\n",
      "\u001b[0m\u001b[33mDEPRECATION: Loading egg at /home/INT/neri.m/anaconda3/envs/matte_plot_env/lib/python3.12/site-packages/vtk-9.3.1-py3.12-linux-x86_64.egg is deprecated. pip 25.1 will enforce this behaviour change. A possible replacement is to use pip for package installation. Discussion can be found at https://github.com/pypa/pip/issues/12330\u001b[0m\u001b[33m\n",
      "\u001b[0m\u001b[33mDEPRECATION: Loading egg at /home/INT/neri.m/anaconda3/envs/matte_plot_env/lib/python3.12/site-packages/ml_dtypes-0.5.1-py3.12-linux-x86_64.egg is deprecated. pip 25.1 will enforce this behaviour change. A possible replacement is to use pip for package installation. Discussion can be found at https://github.com/pypa/pip/issues/12330\u001b[0m\u001b[33m\n",
      "\u001b[0m\u001b[33mDEPRECATION: Loading egg at /home/INT/neri.m/anaconda3/envs/matte_plot_env/lib/python3.12/site-packages/hoi-0.0.5-py3.12.egg is deprecated. pip 25.1 will enforce this behaviour change. A possible replacement is to use pip for package installation. Discussion can be found at https://github.com/pypa/pip/issues/12330\u001b[0m\u001b[33m\n",
      "\u001b[0m\u001b[33mDEPRECATION: Loading egg at /home/INT/neri.m/anaconda3/envs/matte_plot_env/lib/python3.12/site-packages/certifi-2025.1.31-py3.12.egg is deprecated. pip 25.1 will enforce this behaviour change. A possible replacement is to use pip for package installation. Discussion can be found at https://github.com/pypa/pip/issues/12330\u001b[0m\u001b[33m\n",
      "\u001b[0m\u001b[33mDEPRECATION: Loading egg at /home/INT/neri.m/anaconda3/envs/matte_plot_env/lib/python3.12/site-packages/joblib-1.4.2-py3.12.egg is deprecated. pip 25.1 will enforce this behaviour change. A possible replacement is to use pip for package installation. Discussion can be found at https://github.com/pypa/pip/issues/12330\u001b[0m\u001b[33m\n",
      "\u001b[0m\u001b[33mDEPRECATION: Loading egg at /home/INT/neri.m/anaconda3/envs/matte_plot_env/lib/python3.12/site-packages/toolz-1.0.0-py3.12.egg is deprecated. pip 25.1 will enforce this behaviour change. A possible replacement is to use pip for package installation. Discussion can be found at https://github.com/pypa/pip/issues/12330\u001b[0m\u001b[33m\n",
      "\u001b[0m\u001b[33mDEPRECATION: Loading egg at /home/INT/neri.m/anaconda3/envs/matte_plot_env/lib/python3.12/site-packages/jax_tqdm-0.3.1-py3.12.egg is deprecated. pip 25.1 will enforce this behaviour change. A possible replacement is to use pip for package installation. Discussion can be found at https://github.com/pypa/pip/issues/12330\u001b[0m\u001b[33m\n",
      "\u001b[0m\u001b[33mDEPRECATION: Loading egg at /home/INT/neri.m/anaconda3/envs/matte_plot_env/lib/python3.12/site-packages/absl_py-2.1.0-py3.12.egg is deprecated. pip 25.1 will enforce this behaviour change. A possible replacement is to use pip for package installation. Discussion can be found at https://github.com/pypa/pip/issues/12330\u001b[0m\u001b[33m\n",
      "\u001b[0m\u001b[33mDEPRECATION: Loading egg at /home/INT/neri.m/anaconda3/envs/matte_plot_env/lib/python3.12/site-packages/scipy-1.15.1-py3.12-linux-x86_64.egg is deprecated. pip 25.1 will enforce this behaviour change. A possible replacement is to use pip for package installation. Discussion can be found at https://github.com/pypa/pip/issues/12330\u001b[0m\u001b[33m\n",
      "\u001b[0m\u001b[33mDEPRECATION: Loading egg at /home/INT/neri.m/anaconda3/envs/matte_plot_env/lib/python3.12/site-packages/xhoi-0.0.5-py3.12.egg is deprecated. pip 25.1 will enforce this behaviour change. A possible replacement is to use pip for package installation. Discussion can be found at https://github.com/pypa/pip/issues/12330\u001b[0m\u001b[33m\n",
      "\u001b[0m\u001b[33mDEPRECATION: Loading egg at /home/INT/neri.m/anaconda3/envs/matte_plot_env/lib/python3.12/site-packages/threadpoolctl-3.5.0-py3.12.egg is deprecated. pip 25.1 will enforce this behaviour change. A possible replacement is to use pip for package installation. Discussion can be found at https://github.com/pypa/pip/issues/12330\u001b[0m\u001b[33m\n",
      "\u001b[0m\u001b[33mDEPRECATION: Loading egg at /home/INT/neri.m/anaconda3/envs/matte_plot_env/lib/python3.12/site-packages/tqdm-4.67.1-py3.12.egg is deprecated. pip 25.1 will enforce this behaviour change. A possible replacement is to use pip for package installation. Discussion can be found at https://github.com/pypa/pip/issues/12330\u001b[0m\u001b[33m\n",
      "\u001b[0m\u001b[33mDEPRECATION: Loading egg at /home/INT/neri.m/anaconda3/envs/matte_plot_env/lib/python3.12/site-packages/idna-3.10-py3.12.egg is deprecated. pip 25.1 will enforce this behaviour change. A possible replacement is to use pip for package installation. Discussion can be found at https://github.com/pypa/pip/issues/12330\u001b[0m\u001b[33m\n",
      "\u001b[0m\u001b[33mDEPRECATION: Loading egg at /home/INT/neri.m/anaconda3/envs/matte_plot_env/lib/python3.12/site-packages/scikit_learn-1.6.1-py3.12-linux-x86_64.egg is deprecated. pip 25.1 will enforce this behaviour change. A possible replacement is to use pip for package installation. Discussion can be found at https://github.com/pypa/pip/issues/12330\u001b[0m\u001b[33m\n",
      "\u001b[0m\u001b[33mDEPRECATION: Loading egg at /home/INT/neri.m/anaconda3/envs/matte_plot_env/lib/python3.12/site-packages/neuromaps-0.0.5+38.gae3c88a-py3.12.egg is deprecated. pip 25.1 will enforce this behaviour change. A possible replacement is to use pip for package installation. Discussion can be found at https://github.com/pypa/pip/issues/12330\u001b[0m\u001b[33m\n",
      "\u001b[0mRequirement already satisfied: hoi in /home/INT/neri.m/anaconda3/envs/matte_plot_env/lib/python3.12/site-packages/hoi-0.0.5-py3.12.egg (0.0.5)\n",
      "Requirement already satisfied: jax in /home/INT/neri.m/anaconda3/envs/matte_plot_env/lib/python3.12/site-packages/jax-0.5.0-py3.12.egg (from hoi) (0.5.0)\n",
      "Requirement already satisfied: jaxlib in /home/INT/neri.m/anaconda3/envs/matte_plot_env/lib/python3.12/site-packages/jaxlib-0.5.0-py3.12-linux-x86_64.egg (from hoi) (0.5.0)\n",
      "Requirement already satisfied: numpy>=1.22 in /home/INT/neri.m/anaconda3/envs/matte_plot_env/lib/python3.12/site-packages (from hoi) (2.2.2)\n",
      "Requirement already satisfied: scipy>=1.9 in /home/INT/neri.m/anaconda3/envs/matte_plot_env/lib/python3.12/site-packages/scipy-1.15.1-py3.12-linux-x86_64.egg (from hoi) (1.15.1)\n",
      "Requirement already satisfied: scikit-learn in /home/INT/neri.m/anaconda3/envs/matte_plot_env/lib/python3.12/site-packages/scikit_learn-1.6.1-py3.12-linux-x86_64.egg (from hoi) (1.6.1)\n",
      "Requirement already satisfied: pandas in /home/INT/neri.m/anaconda3/envs/matte_plot_env/lib/python3.12/site-packages (from hoi) (2.2.3)\n",
      "Requirement already satisfied: jax-tqdm in /home/INT/neri.m/anaconda3/envs/matte_plot_env/lib/python3.12/site-packages/jax_tqdm-0.3.1-py3.12.egg (from hoi) (0.3.1)\n",
      "Requirement already satisfied: tqdm in /home/INT/neri.m/anaconda3/envs/matte_plot_env/lib/python3.12/site-packages/tqdm-4.67.1-py3.12.egg (from hoi) (4.67.1)\n",
      "Requirement already satisfied: ml_dtypes>=0.4.0 in /home/INT/neri.m/anaconda3/envs/matte_plot_env/lib/python3.12/site-packages/ml_dtypes-0.5.1-py3.12-linux-x86_64.egg (from jax->hoi) (0.5.1)\n",
      "Requirement already satisfied: opt_einsum in /home/INT/neri.m/anaconda3/envs/matte_plot_env/lib/python3.12/site-packages/opt_einsum-3.4.0-py3.12.egg (from jax->hoi) (3.4.0)\n",
      "Requirement already satisfied: chex<0.2.0,>=0.1.87 in /home/INT/neri.m/anaconda3/envs/matte_plot_env/lib/python3.12/site-packages/chex-0.1.88-py3.12.egg (from jax-tqdm->hoi) (0.1.88)\n",
      "Requirement already satisfied: python-dateutil>=2.8.2 in /home/INT/neri.m/anaconda3/envs/matte_plot_env/lib/python3.12/site-packages (from pandas->hoi) (2.9.0.post0)\n",
      "Requirement already satisfied: pytz>=2020.1 in /home/INT/neri.m/anaconda3/envs/matte_plot_env/lib/python3.12/site-packages (from pandas->hoi) (2024.1)\n",
      "Requirement already satisfied: tzdata>=2022.7 in /home/INT/neri.m/anaconda3/envs/matte_plot_env/lib/python3.12/site-packages (from pandas->hoi) (2023.3)\n",
      "Requirement already satisfied: joblib>=1.2.0 in /home/INT/neri.m/anaconda3/envs/matte_plot_env/lib/python3.12/site-packages/joblib-1.4.2-py3.12.egg (from scikit-learn->hoi) (1.4.2)\n",
      "Requirement already satisfied: threadpoolctl>=3.1.0 in /home/INT/neri.m/anaconda3/envs/matte_plot_env/lib/python3.12/site-packages/threadpoolctl-3.5.0-py3.12.egg (from scikit-learn->hoi) (3.5.0)\n",
      "Requirement already satisfied: absl-py>=0.9.0 in /home/INT/neri.m/anaconda3/envs/matte_plot_env/lib/python3.12/site-packages/absl_py-2.1.0-py3.12.egg (from chex<0.2.0,>=0.1.87->jax-tqdm->hoi) (2.1.0)\n",
      "Requirement already satisfied: typing_extensions>=4.2.0 in /home/INT/neri.m/anaconda3/envs/matte_plot_env/lib/python3.12/site-packages (from chex<0.2.0,>=0.1.87->jax-tqdm->hoi) (4.12.2)\n",
      "Requirement already satisfied: setuptools in /home/INT/neri.m/anaconda3/envs/matte_plot_env/lib/python3.12/site-packages (from chex<0.2.0,>=0.1.87->jax-tqdm->hoi) (72.1.0)\n",
      "Requirement already satisfied: toolz>=0.9.0 in /home/INT/neri.m/anaconda3/envs/matte_plot_env/lib/python3.12/site-packages/toolz-1.0.0-py3.12.egg (from chex<0.2.0,>=0.1.87->jax-tqdm->hoi) (1.0.0)\n",
      "Requirement already satisfied: six>=1.5 in /home/INT/neri.m/anaconda3/envs/matte_plot_env/lib/python3.12/site-packages (from python-dateutil>=2.8.2->pandas->hoi) (1.16.0)\n",
      "Note: you may need to restart the kernel to use updated packages.\n"
     ]
    }
   ],
   "source": [
    "pip install hoi"
   ]
  },
  {
   "cell_type": "code",
   "execution_count": 2,
   "metadata": {},
   "outputs": [
    {
     "name": "stderr",
     "output_type": "stream",
     "text": [
      "/home/INT/neri.m/anaconda3/envs/matte_plot_env/lib/python3.12/site-packages/hoi-0.0.5-py3.12.egg/hoi/utils/logging.py:52: SyntaxWarning: invalid escape sequence '\\*'\n",
      "/home/INT/neri.m/anaconda3/envs/matte_plot_env/lib/python3.12/site-packages/hoi-0.0.5-py3.12.egg/hoi/utils/logging.py:52: SyntaxWarning: invalid escape sequence '\\*'\n",
      "/home/INT/neri.m/anaconda3/envs/matte_plot_env/lib/python3.12/site-packages/tqdm-4.67.1-py3.12.egg/tqdm/auto.py:21: TqdmWarning: IProgress not found. Please update jupyter and ipywidgets. See https://ipywidgets.readthedocs.io/en/stable/user_install.html\n",
      "  from .autonotebook import tqdm as notebook_tqdm\n",
      "/home/INT/neri.m/anaconda3/envs/matte_plot_env/lib/python3.12/site-packages/hoi-0.0.5-py3.12.egg/hoi/metrics/infotopo.py:47: SyntaxWarning: invalid escape sequence '\\s'\n",
      "/home/INT/neri.m/anaconda3/envs/matte_plot_env/lib/python3.12/site-packages/hoi-0.0.5-py3.12.egg/hoi/metrics/infotopo.py:47: SyntaxWarning: invalid escape sequence '\\s'\n",
      "/home/INT/neri.m/anaconda3/envs/matte_plot_env/lib/python3.12/site-packages/hoi-0.0.5-py3.12.egg/hoi/metrics/rsi.py:15: SyntaxWarning: invalid escape sequence '\\e'\n",
      "/home/INT/neri.m/anaconda3/envs/matte_plot_env/lib/python3.12/site-packages/hoi-0.0.5-py3.12.egg/hoi/metrics/rsi.py:15: SyntaxWarning: invalid escape sequence '\\e'\n"
     ]
    }
   ],
   "source": [
    "import hoi"
   ]
  },
  {
   "cell_type": "code",
   "execution_count": 3,
   "metadata": {},
   "outputs": [],
   "source": [
    "import numpy as np"
   ]
  },
  {
   "cell_type": "code",
   "execution_count": null,
   "metadata": {},
   "outputs": [],
   "source": [
    "dd = np.random.rand(100, 6)\n",
    "\n",
    "dd_mod = hoi.metrics.Oinfo(dd)\n",
    "hoi_res = dd_mod.fit()"
   ]
  }
 ],
 "metadata": {
  "kernelspec": {
   "display_name": "matte_plot_env",
   "language": "python",
   "name": "python3"
  },
  "language_info": {
   "codemirror_mode": {
    "name": "ipython",
    "version": 3
   },
   "file_extension": ".py",
   "mimetype": "text/x-python",
   "name": "python",
   "nbconvert_exporter": "python",
   "pygments_lexer": "ipython3",
   "version": "3.12.9"
  }
 },
 "nbformat": 4,
 "nbformat_minor": 2
}
