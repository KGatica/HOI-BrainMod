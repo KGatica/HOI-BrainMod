{
 "cells": [
  {
   "cell_type": "code",
   "execution_count": 18,
   "metadata": {},
   "outputs": [],
   "source": [
    "\"\"\"\n",
    "O-information\n",
    "=============\n",
    "\"\"\"\n",
    "import numpy as np\n",
    "\n",
    "from hoi.metrics import RSI, Oinfo\n",
    "from hoi.utils import get_nbest_mult\n",
    "from hoi.plot import plot_landscape\n",
    "import xgi\n",
    "\n",
    "import matplotlib.pyplot as plt\n",
    "plt.style.use('ggplot')\n",
    "\n"
   ]
  },
  {
   "cell_type": "markdown",
   "metadata": {},
   "source": [
    "## Definition\n",
    "\n",
    "The O-information is a multivariate measure of information capable of disentangling whether a subset of a variable `X` is dominated by redunancy or synergy. The O-information is defined as the difference between the Total Correlation and the Dual Total Correlation. As both quantities are respectively linked to redundancy and synergy, the O-information is going to be positive when a system is dominated by redundant interactions and negative when the system is dominated by synergistic interactions. The mathematical definition of the O-information is given by:\n",
    "\n",
    "$$\n",
    "\\Omega(X^{n})  =  TC(X^{n}) - DTC(X^{n}) \\\\\n",
    "               =  (n - 2)H(X^{n}) + \\sum_{j=1}^{n} \\left[ H(X_{j}) - H(X_{-j}^{n}) \\right]\n",
    "$$\n",
    "\n",
    "---\n",
    "\n",
    "## Simulate Univariate Redundancy\n",
    "\n",
    "A very simple way to simulate redundancy between three variables, is to copy one of the three variables in the other two. This is what is done step-by-step in the following cell. \n",
    "\n",
    "For further information about how to simulate redundant and synergistic interactions, check out the example: [Simulating Redundant and Synergistic Interactions](https://example.com/sphx_glr_auto_examples_tutorials_plot_sim_red_syn.py)."
   ]
  },
  {
   "cell_type": "code",
   "execution_count": null,
   "metadata": {},
   "outputs": [
    {
     "name": "stderr",
     "output_type": "stream",
     "text": [
      "    Copnorm and demean the data\n",
      "Get list of multiplets\n",
      "                                                           "
     ]
    },
    {
     "name": "stdout",
     "output_type": "stream",
     "text": [
      "   index  order       hoi  multiplet\n",
      "0     20      3  0.148595  [1, 3, 5]\n",
      "1      3      3  0.011834  [0, 1, 5]\n",
      "2      1      3  0.010218  [0, 1, 3]\n",
      "3     17      3 -0.000902  [1, 2, 5]\n",
      "4     24      3 -0.001221  [1, 5, 6]\n",
      "5     22      3 -0.003040  [1, 4, 5]\n"
     ]
    },
    {
     "name": "stderr",
     "output_type": "stream",
     "text": [
      "\r"
     ]
    }
   ],
   "source": [
    "\n",
    "# lets start by simulating a variable x with 200 samples and 7 features\n",
    "x = np.random.rand(200, 7)\n",
    "\n",
    "# we now send the variable x1 in the column (3, 5) of x\n",
    "x[:, 3] += x[:, 1]\n",
    "x[:, 5] += x[:, 1]\n",
    "\n",
    "# define the Oinfo model and launch it\n",
    "model = Oinfo(x)\n",
    "hoi = model.fit(minsize=3, maxsize=5)\n",
    "\n",
    "# now we can take a look at the multiplets with the highest and lowest values\n",
    "# of Oinfo. We will only select the multiplets of size 3 here\n",
    "df = get_nbest_mult(hoi, model=model, minsize=3, maxsize=3, n_best=3)\n",
    "print(df)\n",
    "\n"
   ]
  },
  {
   "cell_type": "markdown",
   "metadata": {},
   "source": [
    "###############################################################################\n",
    "# Simulate univariate and multivariate synergy\n",
    "-------------------------------------------------------------------------------\n",
    "\n",
    "As we have already seen in the other part of the tutorial, we observe synergy\n",
    "between three variables, if one variable is equal to the sum of the other two. \n"
   ]
  },
  {
   "cell_type": "code",
   "execution_count": 13,
   "metadata": {},
   "outputs": [
    {
     "name": "stderr",
     "output_type": "stream",
     "text": [
      "    Copnorm and demean the data\n",
      "Get list of multiplets\n",
      "                                                           "
     ]
    },
    {
     "name": "stdout",
     "output_type": "stream",
     "text": [
      "   index  order       hoi  multiplet\n",
      "0      7      3  0.011463  [0, 2, 5]\n",
      "1      5      3  0.009934  [0, 2, 3]\n",
      "2     11      3  0.002160  [0, 3, 6]\n",
      "3      3      3 -0.002514  [0, 1, 5]\n",
      "4     14      3 -0.003253  [0, 5, 6]\n",
      "5     10      3 -1.305760  [0, 3, 5]\n"
     ]
    },
    {
     "name": "stderr",
     "output_type": "stream",
     "text": [
      "\r"
     ]
    }
   ],
   "source": [
    "# simulate the variable x\n",
    "x = np.random.rand(200, 7)\n",
    "\n",
    "# synergy between (0, 3, 5) and 5\n",
    "x[:, 0] = x[:, 3] + x[:, 5]\n",
    "\n",
    "# define the RSI, launch it and inspect the best multiplets\n",
    "model = Oinfo(x)\n",
    "hoi = model.fit(minsize=3, maxsize=5)\n",
    "df = get_nbest_mult(hoi, model=model, minsize=3, maxsize=3, n_best=3)\n",
    "print(df)\n",
    "\n"
   ]
  },
  {
   "cell_type": "markdown",
   "metadata": {},
   "source": [
    "# Combining redundancy and synergy"
   ]
  },
  {
   "cell_type": "code",
   "execution_count": null,
   "metadata": {},
   "outputs": [
    {
     "name": "stderr",
     "output_type": "stream",
     "text": [
      "    Copnorm and demean the data\n",
      "Get list of multiplets\n",
      "                                                           "
     ]
    },
    {
     "name": "stdout",
     "output_type": "stream",
     "text": [
      "   index  order       hoi  multiplet\n",
      "0     31      3  0.173615  [3, 4, 5]\n",
      "1      6      3  0.004470  [0, 2, 4]\n",
      "2      3      3  0.002190  [0, 1, 5]\n",
      "3     12      3 -0.007830  [0, 4, 5]\n",
      "4     33      3 -0.011161  [3, 5, 6]\n",
      "5      0      3 -1.151742  [0, 1, 2]\n"
     ]
    },
    {
     "name": "stderr",
     "output_type": "stream",
     "text": [
      "\r"
     ]
    }
   ],
   "source": [
    "# simulate the variable x and y\n",
    "x = np.random.rand(200, 7)\n",
    "\n",
    "# synergy between (0, 1, 2) and the first column of y\n",
    "x[:, 0] = x[:, 1] + x[:, 2]\n",
    "\n",
    "# redundancy between (3, 4, 5) and the second column of x\n",
    "x[:, 4] += x[:, 3]\n",
    "x[:, 5] += x[:, 3]\n",
    "\n",
    "# define the RSI, launch it and inspect the best multiplets\n",
    "model = Oinfo(x)\n",
    "hoi = model.fit(minsize=3, maxsize=5)\n",
    "df = get_nbest_mult(hoi, model=model, minsize=3, maxsize=3, n_best=3)\n",
    "print(df)\n",
    "\n"
   ]
  },
  {
   "cell_type": "markdown",
   "metadata": {},
   "source": [
    "# Plot the result at each order to observe the spreading at orders higher than 3"
   ]
  },
  {
   "cell_type": "code",
   "execution_count": 17,
   "metadata": {},
   "outputs": [
    {
     "data": {
      "image/png": "[encoded data removed]",
      "text/plain": [
       "<Figure size 640x480 with 1 Axes>"
      ]
     },
     "metadata": {},
     "output_type": "display_data"
    }
   ],
   "source": [
    "plot_landscape(\n",
    "    hoi,\n",
    "    model,\n",
    "    kind=\"scatter\",\n",
    "    undersampling=False,\n",
    "    plt_kwargs=dict(cmap=\"turbo\"),\n",
    ")\n",
    "plt.show()"
   ]
  },
  {
   "cell_type": "markdown",
   "metadata": {},
   "source": [
    "# Here, we use another toolbox, to plot the computed higher-order interactions"
   ]
  },
  {
   "cell_type": "code",
   "execution_count": 29,
   "metadata": {},
   "outputs": [
    {
     "ename": "SyntaxError",
     "evalue": "invalid syntax (3471215735.py, line 11)",
     "output_type": "error",
     "traceback": [
      "\u001b[0;36m  Cell \u001b[0;32mIn[29], line 11\u001b[0;36m\u001b[0m\n\u001b[0;31m    dict_node_labels[i]=str(i)cv\u001b[0m\n\u001b[0m                              ^\u001b[0m\n\u001b[0;31mSyntaxError\u001b[0m\u001b[0;31m:\u001b[0m invalid syntax\n"
     ]
    }
   ],
   "source": [
    "hype=xgi.Hypergraph()\n",
    "\n",
    "#Here we separate the synergistic and redundant interactions\n",
    "index_pos=np.where(df['hoi']>0.1)[0]\n",
    "index_neg=np.where(df['hoi']<-0.1)[0]\n",
    "hype.add_nodes_from(np.arange(0,7))\n",
    "hype.add_edges_from(df['multiplet'][index_pos][::-1])\n",
    "\n",
    "dict_node_labels={}\n",
    "for i in range(len(hype.nodes)):\n",
    "    dict_node_labels[i]=str(i)cv\n",
    "\n",
    "xgi.draw(hype, pos=xgi.drawing.layout.circular_layout(hype), node_labels=dict_node_labels, edge_fc=df['hoi'][index_pos][::-1], node_size=0, edge_fc_cmap='viridis')"
   ]
  },
  {
   "cell_type": "code",
   "execution_count": 30,
   "metadata": {},
   "outputs": [
    {
     "data": {
      "text/plain": [
       "(<Axes: >,\n",
       " (<matplotlib.collections.PathCollection at 0x7f8ca0261c10>,\n",
       "  <matplotlib.collections.LineCollection at 0x7f8ca0262e50>,\n",
       "  <matplotlib.collections.PatchCollection at 0x7f8ca0235e10>))"
      ]
     },
     "execution_count": 30,
     "metadata": {},
     "output_type": "execute_result"
    },
    {
     "data": {
      "image/png": "[encoded data removed]",
      "text/plain": [
       "<Figure size 640x480 with 1 Axes>"
      ]
     },
     "metadata": {},
     "output_type": "display_data"
    }
   ],
   "source": [
    "hype=xgi.Hypergraph()\n",
    "\n",
    "#Here we separate the synergistic and redundant interactions\n",
    "index_pos=np.where(df['hoi']>0.1)[0]\n",
    "index_neg=np.where(df['hoi']<-0.1)[0]\n",
    "hype.add_nodes_from(np.arange(0,7))\n",
    "hype.add_edges_from(df['multiplet'][index_neg][::-1])\n",
    "\n",
    "dict_node_labels={}\n",
    "for i in range(len(hype.nodes)):\n",
    "    dict_node_labels[i]=str(i)\n",
    "\n",
    "xgi.draw(hype, pos=xgi.drawing.layout.circular_layout(hype), node_labels=dict_node_labels, edge_fc=df['hoi'][index_neg][::-1], node_size=0, edge_fc_cmap='viridis')"
   ]
  }
 ],
 "metadata": {
  "kernelspec": {
   "display_name": "matte_plots",
   "language": "python",
   "name": "python3"
  },
  "language_info": {
   "codemirror_mode": {
    "name": "ipython",
    "version": 3
   },
   "file_extension": ".py",
   "mimetype": "text/x-python",
   "name": "python",
   "nbconvert_exporter": "python",
   "pygments_lexer": "ipython3",
   "version": "3.11.10"
  }
 },
 "nbformat": 4,
 "nbformat_minor": 2
}
